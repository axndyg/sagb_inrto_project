{
 "cells": [
  {
   "cell_type": "code",
   "execution_count": 1,
   "metadata": {},
   "outputs": [],
   "source": [
    "import pandas as pd\n",
    "import matplotlib.pyplot as plt\n",
    "import seaborn as sns"
   ]
  },
  {
   "cell_type": "markdown",
   "metadata": {},
   "source": [
    "## Shots"
   ]
  },
  {
   "cell_type": "code",
   "execution_count": 2,
   "metadata": {},
   "outputs": [],
   "source": [
    "england_shots = pd.read_csv('/Users/kar/Documents/sagb_inrto_project/England/Csvs/England_shots.csv')"
   ]
  },
  {
   "cell_type": "code",
   "execution_count": 3,
   "metadata": {},
   "outputs": [],
   "source": [
    "england_sd = england_shots.groupby('matchId').agg(\n",
    "    shots_array=('eventMin', list),\n",
    "    total_shots=('eventMin', 'count'),\n",
    "    late_game_shots=('eventMin', lambda x: (x >= 60).sum()),\n",
    ")"
   ]
  },
  {
   "cell_type": "code",
   "execution_count": 4,
   "metadata": {},
   "outputs": [],
   "source": [
    "england_sd['late_game_density'] = england_sd['late_game_shots'] / england_sd['total_shots']"
   ]
  },
  {
   "cell_type": "code",
   "execution_count": 5,
   "metadata": {},
   "outputs": [],
   "source": [
    "england_sd.to_csv('/Users/kar/Documents/sagb_inrto_project/England/Csvs/England_sd.csv', index=True)"
   ]
  },
  {
   "cell_type": "code",
   "execution_count": 6,
   "metadata": {},
   "outputs": [
    {
     "data": {
      "text/html": [
       "<div>\n",
       "<style scoped>\n",
       "    .dataframe tbody tr th:only-of-type {\n",
       "        vertical-align: middle;\n",
       "    }\n",
       "\n",
       "    .dataframe tbody tr th {\n",
       "        vertical-align: top;\n",
       "    }\n",
       "\n",
       "    .dataframe thead th {\n",
       "        text-align: right;\n",
       "    }\n",
       "</style>\n",
       "<table border=\"1\" class=\"dataframe\">\n",
       "  <thead>\n",
       "    <tr style=\"text-align: right;\">\n",
       "      <th></th>\n",
       "      <th>shots_array</th>\n",
       "      <th>total_shots</th>\n",
       "      <th>late_game_shots</th>\n",
       "      <th>late_game_density</th>\n",
       "    </tr>\n",
       "    <tr>\n",
       "      <th>matchId</th>\n",
       "      <th></th>\n",
       "      <th></th>\n",
       "      <th></th>\n",
       "      <th></th>\n",
       "    </tr>\n",
       "  </thead>\n",
       "  <tbody>\n",
       "    <tr>\n",
       "      <th>2499719</th>\n",
       "      <td>[1.6, 3.0, 4.2, 7.1, 13.6, 21.4, 21.7, 25.8, 2...</td>\n",
       "      <td>34</td>\n",
       "      <td>14</td>\n",
       "      <td>0.411765</td>\n",
       "    </tr>\n",
       "    <tr>\n",
       "      <th>2499720</th>\n",
       "      <td>[3.2, 8.9, 13.2, 33.3, 33.3, 44.6, 45.0, 47.1,...</td>\n",
       "      <td>18</td>\n",
       "      <td>2</td>\n",
       "      <td>0.111111</td>\n",
       "    </tr>\n",
       "    <tr>\n",
       "      <th>2499721</th>\n",
       "      <td>[3.0, 10.7, 23.2, 33.0, 38.6, 40.4, 42.2, 44.1...</td>\n",
       "      <td>24</td>\n",
       "      <td>9</td>\n",
       "      <td>0.375000</td>\n",
       "    </tr>\n",
       "    <tr>\n",
       "      <th>2499722</th>\n",
       "      <td>[1.7, 17.0, 19.8, 25.1, 27.2, 31.9, 36.6, 41.5...</td>\n",
       "      <td>19</td>\n",
       "      <td>5</td>\n",
       "      <td>0.263158</td>\n",
       "    </tr>\n",
       "    <tr>\n",
       "      <th>2499723</th>\n",
       "      <td>[12.1, 14.5, 14.6, 19.8, 23.8, 34.1, 34.9, 45....</td>\n",
       "      <td>18</td>\n",
       "      <td>7</td>\n",
       "      <td>0.388889</td>\n",
       "    </tr>\n",
       "  </tbody>\n",
       "</table>\n",
       "</div>"
      ],
      "text/plain": [
       "                                               shots_array  total_shots  \\\n",
       "matchId                                                                   \n",
       "2499719  [1.6, 3.0, 4.2, 7.1, 13.6, 21.4, 21.7, 25.8, 2...           34   \n",
       "2499720  [3.2, 8.9, 13.2, 33.3, 33.3, 44.6, 45.0, 47.1,...           18   \n",
       "2499721  [3.0, 10.7, 23.2, 33.0, 38.6, 40.4, 42.2, 44.1...           24   \n",
       "2499722  [1.7, 17.0, 19.8, 25.1, 27.2, 31.9, 36.6, 41.5...           19   \n",
       "2499723  [12.1, 14.5, 14.6, 19.8, 23.8, 34.1, 34.9, 45....           18   \n",
       "\n",
       "         late_game_shots  late_game_density  \n",
       "matchId                                      \n",
       "2499719               14           0.411765  \n",
       "2499720                2           0.111111  \n",
       "2499721                9           0.375000  \n",
       "2499722                5           0.263158  \n",
       "2499723                7           0.388889  "
      ]
     },
     "execution_count": 6,
     "metadata": {},
     "output_type": "execute_result"
    }
   ],
   "source": [
    "england_sd.head()"
   ]
  },
  {
   "cell_type": "markdown",
   "metadata": {},
   "source": [
    "## Fouls"
   ]
  },
  {
   "cell_type": "code",
   "execution_count": 10,
   "metadata": {},
   "outputs": [],
   "source": [
    "england_fouls = pd.read_csv('/Users/kar/Documents/sagb_inrto_project/England/Csvs/England_fouls.csv')"
   ]
  },
  {
   "cell_type": "code",
   "execution_count": 11,
   "metadata": {},
   "outputs": [],
   "source": [
    "england_fd = england_fouls.groupby('matchId').agg(\n",
    "    shots_array=('eventMin', list),\n",
    "    total_shots=('eventMin', 'count'),\n",
    "    late_game_shots=('eventMin', lambda x: (x >= 60).sum()),\n",
    ")"
   ]
  },
  {
   "cell_type": "code",
   "execution_count": 12,
   "metadata": {},
   "outputs": [],
   "source": [
    "england_fd['late_game_density'] = england_fd['late_game_shots'] / england_fd['total_shots']"
   ]
  },
  {
   "cell_type": "code",
   "execution_count": 13,
   "metadata": {},
   "outputs": [],
   "source": [
    "england_fd.to_csv('/Users/kar/Documents/sagb_inrto_project/England/Csvs/England_fd.csv', index=True)"
   ]
  },
  {
   "cell_type": "code",
   "execution_count": 14,
   "metadata": {},
   "outputs": [
    {
     "data": {
      "text/html": [
       "<div>\n",
       "<style scoped>\n",
       "    .dataframe tbody tr th:only-of-type {\n",
       "        vertical-align: middle;\n",
       "    }\n",
       "\n",
       "    .dataframe tbody tr th {\n",
       "        vertical-align: top;\n",
       "    }\n",
       "\n",
       "    .dataframe thead th {\n",
       "        text-align: right;\n",
       "    }\n",
       "</style>\n",
       "<table border=\"1\" class=\"dataframe\">\n",
       "  <thead>\n",
       "    <tr style=\"text-align: right;\">\n",
       "      <th></th>\n",
       "      <th>shots_array</th>\n",
       "      <th>total_shots</th>\n",
       "      <th>late_game_shots</th>\n",
       "      <th>late_game_density</th>\n",
       "    </tr>\n",
       "    <tr>\n",
       "      <th>matchId</th>\n",
       "      <th></th>\n",
       "      <th></th>\n",
       "      <th></th>\n",
       "      <th></th>\n",
       "    </tr>\n",
       "  </thead>\n",
       "  <tbody>\n",
       "    <tr>\n",
       "      <th>2499719</th>\n",
       "      <td>[0.9, 3.4, 11.8, 15.3, 17.5, 18.7, 24.2, 24.8,...</td>\n",
       "      <td>21</td>\n",
       "      <td>6</td>\n",
       "      <td>0.285714</td>\n",
       "    </tr>\n",
       "    <tr>\n",
       "      <th>2499720</th>\n",
       "      <td>[15.8, 18.8, 26.4, 30.4, 38.0, 40.3, 43.2, 43....</td>\n",
       "      <td>15</td>\n",
       "      <td>7</td>\n",
       "      <td>0.466667</td>\n",
       "    </tr>\n",
       "    <tr>\n",
       "      <th>2499721</th>\n",
       "      <td>[2.0, 9.3, 13.0, 15.2, 15.9, 18.6, 28.7, 37.9,...</td>\n",
       "      <td>27</td>\n",
       "      <td>12</td>\n",
       "      <td>0.444444</td>\n",
       "    </tr>\n",
       "    <tr>\n",
       "      <th>2499722</th>\n",
       "      <td>[0.3, 3.9, 6.5, 7.7, 9.3, 11.3, 13.9, 15.4, 20...</td>\n",
       "      <td>26</td>\n",
       "      <td>9</td>\n",
       "      <td>0.346154</td>\n",
       "    </tr>\n",
       "    <tr>\n",
       "      <th>2499723</th>\n",
       "      <td>[3.5, 13.3, 14.0, 15.5, 17.3, 25.8, 28.6, 31.8...</td>\n",
       "      <td>23</td>\n",
       "      <td>7</td>\n",
       "      <td>0.304348</td>\n",
       "    </tr>\n",
       "  </tbody>\n",
       "</table>\n",
       "</div>"
      ],
      "text/plain": [
       "                                               shots_array  total_shots  \\\n",
       "matchId                                                                   \n",
       "2499719  [0.9, 3.4, 11.8, 15.3, 17.5, 18.7, 24.2, 24.8,...           21   \n",
       "2499720  [15.8, 18.8, 26.4, 30.4, 38.0, 40.3, 43.2, 43....           15   \n",
       "2499721  [2.0, 9.3, 13.0, 15.2, 15.9, 18.6, 28.7, 37.9,...           27   \n",
       "2499722  [0.3, 3.9, 6.5, 7.7, 9.3, 11.3, 13.9, 15.4, 20...           26   \n",
       "2499723  [3.5, 13.3, 14.0, 15.5, 17.3, 25.8, 28.6, 31.8...           23   \n",
       "\n",
       "         late_game_shots  late_game_density  \n",
       "matchId                                      \n",
       "2499719                6           0.285714  \n",
       "2499720                7           0.466667  \n",
       "2499721               12           0.444444  \n",
       "2499722                9           0.346154  \n",
       "2499723                7           0.304348  "
      ]
     },
     "execution_count": 14,
     "metadata": {},
     "output_type": "execute_result"
    }
   ],
   "source": [
    "england_fd.head()"
   ]
  }
 ],
 "metadata": {
  "kernelspec": {
   "display_name": "Python 3",
   "language": "python",
   "name": "python3"
  },
  "language_info": {
   "codemirror_mode": {
    "name": "ipython",
    "version": 3
   },
   "file_extension": ".py",
   "mimetype": "text/x-python",
   "name": "python",
   "nbconvert_exporter": "python",
   "pygments_lexer": "ipython3",
   "version": "3.9.6"
  }
 },
 "nbformat": 4,
 "nbformat_minor": 2
}
